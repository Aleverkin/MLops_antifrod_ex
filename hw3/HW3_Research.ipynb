{
 "cells": [
  {
   "cell_type": "code",
   "execution_count": 1,
   "id": "5223eed1",
   "metadata": {
    "scrolled": true
   },
   "outputs": [
    {
     "name": "stdout",
     "output_type": "stream",
     "text": [
      "Defaulting to user installation because normal site-packages is not writeable\n",
      "Collecting pyspark\n",
      "  Downloading pyspark-3.5.0.tar.gz (316.9 MB)\n",
      "\u001b[K     |███████████████████████████████▎| 309.4 MB 58.6 MB/s eta 0:00:011 MB/s eta 0:01:40     |████████████▏                   | 120.7 MB 103.9 MB/s eta 0:00:02��██▊     | 265.1 MB 58.6 MB/s eta 0:00:01"
     ]
    },
    {
     "name": "stderr",
     "output_type": "stream",
     "text": [
      "IOPub data rate exceeded.\n",
      "The notebook server will temporarily stop sending output\n",
      "to the client in order to avoid crashing it.\n",
      "To change this limit, set the config variable\n",
      "`--NotebookApp.iopub_data_rate_limit`.\n",
      "\n",
      "Current values:\n",
      "NotebookApp.iopub_data_rate_limit=1000000.0 (bytes/sec)\n",
      "NotebookApp.rate_limit_window=3.0 (secs)\n",
      "\n"
     ]
    },
    {
     "name": "stdout",
     "output_type": "stream",
     "text": [
      "\u001b[K     |████████████████████████████████| 316.9 MB 6.1 kB/s \n",
      "\u001b[?25hCollecting py4j==0.10.9.7\n",
      "  Downloading py4j-0.10.9.7-py2.py3-none-any.whl (200 kB)\n",
      "\u001b[K     |████████████████████████████████| 200 kB 79.0 MB/s eta 0:00:01\n",
      "\u001b[?25hBuilding wheels for collected packages: pyspark\n",
      "  Building wheel for pyspark (setup.py) ... \u001b[?25ldone\n",
      "\u001b[?25h  Created wheel for pyspark: filename=pyspark-3.5.0-py2.py3-none-any.whl size=317425367 sha256=4c870ec6e27fb3cd530d9fb9ec2672d1c9da86a649501c5cdf2d16ee20a8c94d\n",
      "  Stored in directory: /home/ubuntu/.cache/pip/wheels/a6/ce/f9/17d82c92f044018df2fe30af63ac043447720d5b2cee39b40f\n",
      "Successfully built pyspark\n",
      "Installing collected packages: py4j, pyspark\n",
      "Successfully installed py4j-0.10.9.7 pyspark-3.5.0\n",
      "Defaulting to user installation because normal site-packages is not writeable\n",
      "Collecting findspark\n",
      "  Downloading findspark-2.0.1-py2.py3-none-any.whl (4.4 kB)\n",
      "Installing collected packages: findspark\n",
      "Successfully installed findspark-2.0.1\n"
     ]
    }
   ],
   "source": [
    "! pip install pyspark\n",
    "! pip install findspark"
   ]
  },
  {
   "cell_type": "code",
   "execution_count": 26,
   "id": "c27aa56a",
   "metadata": {
    "scrolled": true
   },
   "outputs": [],
   "source": [
    "spark.stop()"
   ]
  },
  {
   "cell_type": "code",
   "execution_count": 1,
   "id": "b38ec89e",
   "metadata": {},
   "outputs": [
    {
     "data": {
      "text/plain": [
       "'/usr/lib/spark'"
      ]
     },
     "execution_count": 1,
     "metadata": {},
     "output_type": "execute_result"
    }
   ],
   "source": [
    "import findspark\n",
    "findspark.init()\n",
    "findspark.find()"
   ]
  },
  {
   "cell_type": "code",
   "execution_count": 2,
   "id": "384184a7",
   "metadata": {},
   "outputs": [],
   "source": [
    "import pandas as pd\n",
    "from collections import defaultdict\n",
    "from datetime import datetime\n",
    "\n",
    "from pyspark.sql import SparkSession\n",
    "from pyspark import SparkContext, SparkConf\n",
    "from pyspark.sql import SQLContext\n",
    "\n",
    "import pyspark.sql.functions as f\n",
    "from pyspark.sql.types import *"
   ]
  },
  {
   "cell_type": "code",
   "execution_count": 3,
   "id": "3e82cde9",
   "metadata": {
    "scrolled": true
   },
   "outputs": [],
   "source": [
    "spark = (\n",
    "    SparkSession\n",
    "        .builder\n",
    "        .appName(\"OTUS\")\n",
    "        .config('spark.executor.cores', '2')\n",
    "        .config('spark.executor.instances', '4')\n",
    "        .config(\"spark.executor.memory\", \"3g\")\n",
    "        .config(\"spark.driver.memory\", \"2g\")\n",
    "        .getOrCreate()\n",
    ")\n",
    "\n",
    "sql = SQLContext(spark)"
   ]
  },
  {
   "cell_type": "markdown",
   "id": "fca0d6e5",
   "metadata": {},
   "source": [
    "### Функция для чтения файлов"
   ]
  },
  {
   "cell_type": "code",
   "execution_count": 6,
   "id": "68dff6a1",
   "metadata": {},
   "outputs": [],
   "source": [
    "from pyspark.sql.types import *\n",
    "\n",
    "struct = StructType([\n",
    "    StructField(\"tranaction_id\", IntegerType(), nullable = True),\n",
    "    StructField(\"tx_datetime\", StringType(), nullable = True), \n",
    "    StructField(\"customer_id\", IntegerType(), nullable = True), \n",
    "    StructField(\"terminal_id\", IntegerType(), nullable = True),\n",
    "    StructField(\"tx_amount\", DoubleType(), nullable = True), \n",
    "    StructField(\"tx_time_seconds\", IntegerType(), nullable = True), \n",
    "    StructField(\"tx_time_days\", IntegerType(), nullable = True),\n",
    "    StructField(\"tx_fraud\", IntegerType(), nullable = True), \n",
    "    StructField(\"tx_fraud_scenario\", IntegerType(), nullable = True)])\n",
    "\n",
    "def read_df(name):\n",
    "    df = spark.read\\\n",
    "          .option(\"header\", \"true\")\\\n",
    "          .option(\"inferSchema\", \"false\")\\\n",
    "          .option(\"delimiter\", \",\")\\\n",
    "          .schema(struct)\\\n",
    "          .csv(\"s3a://hw2-mlops-course/\" + name)\n",
    "    \n",
    "    return df"
   ]
  },
  {
   "cell_type": "markdown",
   "id": "55442854",
   "metadata": {},
   "source": [
    "### Подгружаем список файлов"
   ]
  },
  {
   "cell_type": "code",
   "execution_count": 5,
   "id": "c05c56f7",
   "metadata": {},
   "outputs": [],
   "source": [
    "import pickle\n",
    "\n",
    "with open(\"name_files.pickle\", \"rb\") as output_file:\n",
    "    name_files = pickle.load(output_file)"
   ]
  },
  {
   "cell_type": "code",
   "execution_count": 91,
   "id": "7051fa24",
   "metadata": {},
   "outputs": [
    {
     "name": "stdout",
     "output_type": "stream",
     "text": [
      "+-------------+-------------------+-----------+-----------+---------+---------------+------------+--------+-----------------+\n",
      "|tranaction_id|        tx_datetime|customer_id|terminal_id|tx_amount|tx_time_seconds|tx_time_days|tx_fraud|tx_fraud_scenario|\n",
      "+-------------+-------------------+-----------+-----------+---------+---------------+------------+--------+-----------------+\n",
      "|            0|2019-08-22 06:51:03|          0|        711|    70.91|          24663|           0|       0|                0|\n",
      "|            1|2019-08-22 05:10:37|          0|          0|    90.55|          18637|           0|       0|                0|\n",
      "|            2|2019-08-22 19:05:33|          0|        753|    35.38|          68733|           0|       0|                0|\n",
      "|            3|2019-08-22 07:21:33|          0|          0|    80.41|          26493|           0|       0|                0|\n",
      "|            4|2019-08-22 09:06:17|          1|        981|   102.83|          32777|           0|       0|                0|\n",
      "+-------------+-------------------+-----------+-----------+---------+---------------+------------+--------+-----------------+\n",
      "only showing top 5 rows\n",
      "\n"
     ]
    }
   ],
   "source": [
    "df = read_df(name_files[0])\n",
    "\n",
    "df.show(5)"
   ]
  },
  {
   "cell_type": "markdown",
   "id": "8cb8007c",
   "metadata": {},
   "source": [
    "### Проверка, что есть NaN значения"
   ]
  },
  {
   "cell_type": "code",
   "execution_count": 17,
   "id": "0dc0e8b0",
   "metadata": {
    "scrolled": true
   },
   "outputs": [
    {
     "name": "stdout",
     "output_type": "stream",
     "text": [
      "2019-08-22.txt, 2024-02-18 12:17:43.400678\n",
      "2019-09-21.txt, 2024-02-18 12:18:27.345758\n",
      "2019-10-21.txt, 2024-02-18 12:19:02.638766\n",
      "2019-11-20.txt, 2024-02-18 12:19:37.316847\n",
      "2019-12-20.txt, 2024-02-18 12:20:11.683497\n",
      "2020-01-19.txt, 2024-02-18 12:20:45.578968\n",
      "2020-02-18.txt, 2024-02-18 12:21:20.062447\n",
      "2020-03-19.txt, 2024-02-18 12:21:54.302914\n",
      "2020-04-18.txt, 2024-02-18 12:22:28.632852\n",
      "2020-05-18.txt, 2024-02-18 12:23:02.827300\n",
      "2020-06-17.txt, 2024-02-18 12:23:37.125443\n",
      "2020-07-17.txt, 2024-02-18 12:24:11.605306\n",
      "2020-08-16.txt, 2024-02-18 12:24:45.566586\n",
      "2020-09-15.txt, 2024-02-18 12:25:19.676606\n",
      "2020-10-15.txt, 2024-02-18 12:25:53.951963\n",
      "2020-11-14.txt, 2024-02-18 12:26:27.918497\n",
      "2020-12-14.txt, 2024-02-18 12:27:01.680075\n",
      "2021-01-13.txt, 2024-02-18 12:27:35.504038\n",
      "2021-02-12.txt, 2024-02-18 12:28:11.292428\n",
      "2021-03-14.txt, 2024-02-18 12:28:45.227034\n",
      "2021-04-13.txt, 2024-02-18 12:29:19.100334\n",
      "2021-05-13.txt, 2024-02-18 12:29:52.975507\n",
      "2021-06-12.txt, 2024-02-18 12:30:26.549072\n",
      "2021-07-12.txt, 2024-02-18 12:30:59.976941\n",
      "2021-08-11.txt, 2024-02-18 12:31:33.913561\n",
      "2021-09-10.txt, 2024-02-18 12:32:07.430835\n",
      "2021-10-10.txt, 2024-02-18 12:32:41.149862\n",
      "2021-11-09.txt, 2024-02-18 12:33:14.584372\n",
      "2021-12-09.txt, 2024-02-18 12:33:48.124951\n",
      "2022-01-08.txt, 2024-02-18 12:34:21.515611\n",
      "2022-02-07.txt, 2024-02-18 12:34:54.896417\n",
      "2022-03-09.txt, 2024-02-18 12:35:28.160106\n",
      "2022-04-08.txt, 2024-02-18 12:36:01.635034\n",
      "2022-05-08.txt, 2024-02-18 12:36:35.170992\n",
      "2022-06-07.txt, 2024-02-18 12:37:08.164905\n",
      "2022-07-07.txt, 2024-02-18 12:37:41.514978\n",
      "2022-08-06.txt, 2024-02-18 12:38:14.457891\n",
      "2022-09-05.txt, 2024-02-18 12:38:47.645369\n",
      "2022-10-05.txt, 2024-02-18 12:39:20.549448\n",
      "2022-11-04.txt, 2024-02-18 12:39:53.488813\n"
     ]
    }
   ],
   "source": [
    "ans = []\n",
    "\n",
    "for name_file in name_files:\n",
    "    print(f'{name_file}, {datetime.today()}')\n",
    "    df = read_df(name_file)\n",
    "    stat_nan = df.select([f.count(f.when(f.isnan(c), c)).alias(c) for c in df.columns]).toPandas()\n",
    "    cnt = stat_nan.loc[0].sum()\n",
    "    \n",
    "    if cnt > 0:\n",
    "        ans.append(name_file)"
   ]
  },
  {
   "cell_type": "code",
   "execution_count": 18,
   "id": "81dfc987",
   "metadata": {},
   "outputs": [
    {
     "data": {
      "text/plain": [
       "[]"
      ]
     },
     "execution_count": 18,
     "metadata": {},
     "output_type": "execute_result"
    }
   ],
   "source": [
    "ans"
   ]
  },
  {
   "cell_type": "markdown",
   "id": "d3c9096f",
   "metadata": {},
   "source": [
    "### Проверка, что есть Null значения"
   ]
  },
  {
   "cell_type": "code",
   "execution_count": 45,
   "id": "01a1cbaf",
   "metadata": {
    "scrolled": true
   },
   "outputs": [
    {
     "name": "stdout",
     "output_type": "stream",
     "text": [
      "2019-08-22.txt, 2024-02-18 15:17:24.140547\n",
      "2019-09-21.txt, 2024-02-18 15:17:54.068840\n",
      "2019-10-21.txt, 2024-02-18 15:18:12.857484\n",
      "2019-11-20.txt, 2024-02-18 15:18:31.089890\n",
      "2019-12-20.txt, 2024-02-18 15:18:49.468159\n",
      "2020-01-19.txt, 2024-02-18 15:19:07.301522\n",
      "2020-02-18.txt, 2024-02-18 15:19:25.063522\n",
      "2020-03-19.txt, 2024-02-18 15:19:43.189276\n",
      "2020-04-18.txt, 2024-02-18 15:20:01.021177\n",
      "2020-05-18.txt, 2024-02-18 15:20:19.214991\n",
      "2020-06-17.txt, 2024-02-18 15:20:37.382732\n",
      "2020-07-17.txt, 2024-02-18 15:20:57.643198\n",
      "2020-08-16.txt, 2024-02-18 15:21:15.720407\n",
      "2020-09-15.txt, 2024-02-18 15:21:34.248310\n",
      "2020-10-15.txt, 2024-02-18 15:21:52.307880\n",
      "2020-11-14.txt, 2024-02-18 15:22:10.404113\n",
      "2020-12-14.txt, 2024-02-18 15:22:28.530273\n",
      "2021-01-13.txt, 2024-02-18 15:22:46.498642\n",
      "2021-02-12.txt, 2024-02-18 15:23:04.645437\n",
      "2021-03-14.txt, 2024-02-18 15:23:22.680832\n",
      "2021-04-13.txt, 2024-02-18 15:23:40.886985\n",
      "2021-05-13.txt, 2024-02-18 15:23:58.931798\n",
      "2021-06-12.txt, 2024-02-18 15:24:16.806083\n",
      "2021-07-12.txt, 2024-02-18 15:24:34.558557\n",
      "2021-08-11.txt, 2024-02-18 15:24:52.442114\n",
      "2021-09-10.txt, 2024-02-18 15:25:10.367891\n",
      "2021-10-10.txt, 2024-02-18 15:25:28.326946\n",
      "2021-11-09.txt, 2024-02-18 15:25:46.199160\n",
      "2021-12-09.txt, 2024-02-18 15:26:04.268420\n",
      "2022-01-08.txt, 2024-02-18 15:26:22.550056\n",
      "2022-02-07.txt, 2024-02-18 15:26:40.567289\n",
      "2022-03-09.txt, 2024-02-18 15:26:58.516930\n",
      "2022-04-08.txt, 2024-02-18 15:27:16.403746\n",
      "2022-05-08.txt, 2024-02-18 15:27:33.988161\n",
      "2022-06-07.txt, 2024-02-18 15:27:51.523041\n",
      "2022-07-07.txt, 2024-02-18 15:28:08.973184\n",
      "2022-08-06.txt, 2024-02-18 15:28:26.531505\n",
      "2022-09-05.txt, 2024-02-18 15:28:44.149537\n",
      "2022-10-05.txt, 2024-02-18 15:29:01.737985\n",
      "2022-11-04.txt, 2024-02-18 15:29:19.356044\n"
     ]
    }
   ],
   "source": [
    "nans_info = defaultdict(list)\n",
    "\n",
    "for name_file in name_files:\n",
    "    print(f'{name_file}, {datetime.today()}')\n",
    "    df = read_df(name_file)\n",
    "    stat_nan = df.select([f.count(f.when(f.col(c).isNull(), c)).alias(c) for c in df.columns]).toPandas()\n",
    "    cols_nan = [k for k, v in stat_less_zero.to_dict().items() if v[0] > 0]\n",
    "    \n",
    "    if len(cols_nan) > 0:\n",
    "        nans_info[name_file[:-4]] = cols_nan"
   ]
  },
  {
   "cell_type": "code",
   "execution_count": 46,
   "id": "3b6acd38",
   "metadata": {
    "scrolled": true
   },
   "outputs": [
    {
     "data": {
      "text/plain": [
       "defaultdict(list,\n",
       "            {'2019-08-22': ['customer_id'],\n",
       "             '2019-09-21': ['customer_id'],\n",
       "             '2019-10-21': ['customer_id'],\n",
       "             '2019-11-20': ['customer_id'],\n",
       "             '2019-12-20': ['customer_id'],\n",
       "             '2020-01-19': ['customer_id'],\n",
       "             '2020-02-18': ['customer_id'],\n",
       "             '2020-03-19': ['customer_id'],\n",
       "             '2020-04-18': ['customer_id'],\n",
       "             '2020-05-18': ['customer_id'],\n",
       "             '2020-06-17': ['customer_id'],\n",
       "             '2020-07-17': ['customer_id'],\n",
       "             '2020-08-16': ['customer_id'],\n",
       "             '2020-09-15': ['customer_id'],\n",
       "             '2020-10-15': ['customer_id'],\n",
       "             '2020-11-14': ['customer_id'],\n",
       "             '2020-12-14': ['customer_id'],\n",
       "             '2021-01-13': ['customer_id'],\n",
       "             '2021-02-12': ['customer_id'],\n",
       "             '2021-03-14': ['customer_id'],\n",
       "             '2021-04-13': ['customer_id'],\n",
       "             '2021-05-13': ['customer_id'],\n",
       "             '2021-06-12': ['customer_id'],\n",
       "             '2021-07-12': ['customer_id'],\n",
       "             '2021-08-11': ['customer_id'],\n",
       "             '2021-09-10': ['customer_id'],\n",
       "             '2021-10-10': ['customer_id'],\n",
       "             '2021-11-09': ['customer_id'],\n",
       "             '2021-12-09': ['customer_id'],\n",
       "             '2022-01-08': ['customer_id'],\n",
       "             '2022-02-07': ['customer_id'],\n",
       "             '2022-03-09': ['customer_id'],\n",
       "             '2022-04-08': ['customer_id'],\n",
       "             '2022-05-08': ['customer_id'],\n",
       "             '2022-06-07': ['customer_id'],\n",
       "             '2022-07-07': ['customer_id'],\n",
       "             '2022-08-06': ['customer_id'],\n",
       "             '2022-09-05': ['customer_id'],\n",
       "             '2022-10-05': ['customer_id'],\n",
       "             '2022-11-04': ['customer_id']})"
      ]
     },
     "execution_count": 46,
     "metadata": {},
     "output_type": "execute_result"
    }
   ],
   "source": [
    "nans_info"
   ]
  },
  {
   "cell_type": "code",
   "execution_count": null,
   "id": "a1e25f0f",
   "metadata": {},
   "outputs": [],
   "source": []
  },
  {
   "cell_type": "code",
   "execution_count": null,
   "id": "de14184e",
   "metadata": {},
   "outputs": [],
   "source": []
  },
  {
   "cell_type": "markdown",
   "id": "9147ea45",
   "metadata": {},
   "source": [
    "### Проверка на отриц. значения"
   ]
  },
  {
   "cell_type": "code",
   "execution_count": 19,
   "id": "cfaefa00",
   "metadata": {},
   "outputs": [],
   "source": [
    "cols_to_analyze = list(df.columns)\n",
    "cols_to_analyze.remove('tx_datetime')"
   ]
  },
  {
   "cell_type": "code",
   "execution_count": 31,
   "id": "260f61d7",
   "metadata": {
    "scrolled": true
   },
   "outputs": [
    {
     "name": "stdout",
     "output_type": "stream",
     "text": [
      "2019-08-22.txt, 2024-02-18 12:52:54.659663\n",
      "2019-09-21.txt, 2024-02-18 12:53:25.352691\n",
      "2019-10-21.txt, 2024-02-18 12:53:43.742393\n",
      "2019-11-20.txt, 2024-02-18 12:54:01.235118\n",
      "2019-12-20.txt, 2024-02-18 12:54:18.736504\n",
      "2020-01-19.txt, 2024-02-18 12:54:35.821857\n",
      "2020-02-18.txt, 2024-02-18 12:54:53.033180\n",
      "2020-03-19.txt, 2024-02-18 12:55:10.363189\n",
      "2020-04-18.txt, 2024-02-18 12:55:27.593856\n",
      "2020-05-18.txt, 2024-02-18 12:55:44.325641\n",
      "2020-06-17.txt, 2024-02-18 12:56:01.140054\n",
      "2020-07-17.txt, 2024-02-18 12:56:18.711249\n",
      "2020-08-16.txt, 2024-02-18 12:56:35.708009\n",
      "2020-09-15.txt, 2024-02-18 12:56:52.510954\n",
      "2020-10-15.txt, 2024-02-18 12:57:09.380584\n",
      "2020-11-14.txt, 2024-02-18 12:57:26.370636\n",
      "2020-12-14.txt, 2024-02-18 12:57:43.084823\n",
      "2021-01-13.txt, 2024-02-18 12:57:59.781050\n",
      "2021-02-12.txt, 2024-02-18 12:58:16.561328\n",
      "2021-03-14.txt, 2024-02-18 12:58:33.551246\n",
      "2021-04-13.txt, 2024-02-18 12:58:50.279371\n",
      "2021-05-13.txt, 2024-02-18 12:59:07.054226\n",
      "2021-06-12.txt, 2024-02-18 12:59:23.802330\n",
      "2021-07-12.txt, 2024-02-18 12:59:40.585043\n",
      "2021-08-11.txt, 2024-02-18 12:59:57.470413\n",
      "2021-09-10.txt, 2024-02-18 13:00:14.922969\n",
      "2021-10-10.txt, 2024-02-18 13:00:31.890320\n",
      "2021-11-09.txt, 2024-02-18 13:00:48.732192\n",
      "2021-12-09.txt, 2024-02-18 13:01:05.792288\n",
      "2022-01-08.txt, 2024-02-18 13:01:22.607092\n",
      "2022-02-07.txt, 2024-02-18 13:01:39.571526\n",
      "2022-03-09.txt, 2024-02-18 13:01:56.553030\n",
      "2022-04-08.txt, 2024-02-18 13:02:13.246357\n",
      "2022-05-08.txt, 2024-02-18 13:02:30.137234\n",
      "2022-06-07.txt, 2024-02-18 13:02:47.193297\n",
      "2022-07-07.txt, 2024-02-18 13:03:04.485662\n",
      "2022-08-06.txt, 2024-02-18 13:03:21.302272\n",
      "2022-09-05.txt, 2024-02-18 13:03:38.660706\n",
      "2022-10-05.txt, 2024-02-18 13:03:55.578771\n",
      "2022-11-04.txt, 2024-02-18 13:04:13.105899\n"
     ]
    },
    {
     "data": {
      "text/plain": [
       "defaultdict(list,\n",
       "            {'2019-08-22': ['customer_id'],\n",
       "             '2019-09-21': ['customer_id'],\n",
       "             '2019-11-20': ['customer_id'],\n",
       "             '2020-01-19': ['customer_id'],\n",
       "             '2020-03-19': ['customer_id'],\n",
       "             '2020-04-18': ['customer_id'],\n",
       "             '2020-06-17': ['customer_id'],\n",
       "             '2020-07-17': ['customer_id'],\n",
       "             '2020-08-16': ['customer_id'],\n",
       "             '2020-09-15': ['customer_id'],\n",
       "             '2020-10-15': ['customer_id'],\n",
       "             '2020-11-14': ['customer_id'],\n",
       "             '2020-12-14': ['customer_id'],\n",
       "             '2021-02-12': ['customer_id'],\n",
       "             '2021-03-14': ['customer_id'],\n",
       "             '2021-05-13': ['customer_id'],\n",
       "             '2021-07-12': ['customer_id'],\n",
       "             '2021-08-11': ['customer_id'],\n",
       "             '2021-09-10': ['customer_id'],\n",
       "             '2021-10-10': ['customer_id'],\n",
       "             '2021-11-09': ['customer_id'],\n",
       "             '2022-02-07': ['customer_id'],\n",
       "             '2022-04-08': ['customer_id'],\n",
       "             '2022-05-08': ['customer_id'],\n",
       "             '2022-06-07': ['customer_id'],\n",
       "             '2022-07-07': ['customer_id'],\n",
       "             '2022-08-06': ['customer_id'],\n",
       "             '2022-11-04': ['customer_id']})"
      ]
     },
     "execution_count": 31,
     "metadata": {},
     "output_type": "execute_result"
    }
   ],
   "source": [
    "less_zero = defaultdict(list)\n",
    "\n",
    "for name_file in name_files:\n",
    "    print(f'{name_file}, {datetime.today()}')\n",
    "    df = read_df(name_file)\n",
    "    \n",
    "    stat_less_zero = df.select([f.count(f.when(f.col(c) < 0, c)).alias(c) for c in df.columns]).toPandas()\n",
    "    cols_less_zero = [k for k, v in stat_less_zero.to_dict().items() if v[0] > 0]\n",
    "        \n",
    "    if len(cols_less_zero) > 0:\n",
    "        less_zero[name_file[:-4]] = cols_less_zero\n",
    "            \n",
    "less_zero"
   ]
  },
  {
   "cell_type": "code",
   "execution_count": 32,
   "id": "194df8c3",
   "metadata": {
    "scrolled": true
   },
   "outputs": [
    {
     "data": {
      "text/plain": [
       "defaultdict(list,\n",
       "            {'2019-08-22': ['customer_id'],\n",
       "             '2019-09-21': ['customer_id'],\n",
       "             '2019-11-20': ['customer_id'],\n",
       "             '2020-01-19': ['customer_id'],\n",
       "             '2020-03-19': ['customer_id'],\n",
       "             '2020-04-18': ['customer_id'],\n",
       "             '2020-06-17': ['customer_id'],\n",
       "             '2020-07-17': ['customer_id'],\n",
       "             '2020-08-16': ['customer_id'],\n",
       "             '2020-09-15': ['customer_id'],\n",
       "             '2020-10-15': ['customer_id'],\n",
       "             '2020-11-14': ['customer_id'],\n",
       "             '2020-12-14': ['customer_id'],\n",
       "             '2021-02-12': ['customer_id'],\n",
       "             '2021-03-14': ['customer_id'],\n",
       "             '2021-05-13': ['customer_id'],\n",
       "             '2021-07-12': ['customer_id'],\n",
       "             '2021-08-11': ['customer_id'],\n",
       "             '2021-09-10': ['customer_id'],\n",
       "             '2021-10-10': ['customer_id'],\n",
       "             '2021-11-09': ['customer_id'],\n",
       "             '2022-02-07': ['customer_id'],\n",
       "             '2022-04-08': ['customer_id'],\n",
       "             '2022-05-08': ['customer_id'],\n",
       "             '2022-06-07': ['customer_id'],\n",
       "             '2022-07-07': ['customer_id'],\n",
       "             '2022-08-06': ['customer_id'],\n",
       "             '2022-11-04': ['customer_id']})"
      ]
     },
     "execution_count": 32,
     "metadata": {},
     "output_type": "execute_result"
    }
   ],
   "source": [
    "less_zero"
   ]
  },
  {
   "cell_type": "code",
   "execution_count": null,
   "id": "3756727c",
   "metadata": {},
   "outputs": [],
   "source": []
  },
  {
   "cell_type": "markdown",
   "id": "c7a43bf0",
   "metadata": {},
   "source": [
    "### Проверка что дата в файле не совпадает с названием файла"
   ]
  },
  {
   "cell_type": "code",
   "execution_count": 40,
   "id": "4805f898",
   "metadata": {
    "scrolled": true
   },
   "outputs": [
    {
     "name": "stdout",
     "output_type": "stream",
     "text": [
      "2019-08-22.txt, 2024-02-18 14:47:03.907673\n",
      "2019-09-21.txt, 2024-02-18 14:47:32.164253\n",
      "2019-10-21.txt, 2024-02-18 14:47:49.549300\n",
      "2019-11-20.txt, 2024-02-18 14:48:06.365271\n",
      "2019-12-20.txt, 2024-02-18 14:48:22.738445\n",
      "2020-01-19.txt, 2024-02-18 14:48:39.048417\n",
      "2020-02-18.txt, 2024-02-18 14:48:55.538434\n",
      "2020-03-19.txt, 2024-02-18 14:49:11.932762\n",
      "2020-04-18.txt, 2024-02-18 14:49:28.285909\n",
      "2020-05-18.txt, 2024-02-18 14:49:44.718593\n",
      "2020-06-17.txt, 2024-02-18 14:50:01.070948\n",
      "2020-07-17.txt, 2024-02-18 14:50:18.423479\n",
      "2020-08-16.txt, 2024-02-18 14:50:34.583215\n",
      "2020-09-15.txt, 2024-02-18 14:50:50.631258\n",
      "2020-10-15.txt, 2024-02-18 14:51:06.735237\n",
      "2020-11-14.txt, 2024-02-18 14:51:22.789943\n",
      "2020-12-14.txt, 2024-02-18 14:51:38.967999\n",
      "2021-01-13.txt, 2024-02-18 14:51:55.100409\n",
      "2021-02-12.txt, 2024-02-18 14:52:11.401246\n",
      "2021-03-14.txt, 2024-02-18 14:52:27.326111\n",
      "2021-04-13.txt, 2024-02-18 14:52:43.257169\n",
      "2021-05-13.txt, 2024-02-18 14:52:59.255048\n",
      "2021-06-12.txt, 2024-02-18 14:53:15.028428\n",
      "2021-07-12.txt, 2024-02-18 14:53:30.986663\n",
      "2021-08-11.txt, 2024-02-18 14:53:46.747689\n",
      "2021-09-10.txt, 2024-02-18 14:54:02.510537\n",
      "2021-10-10.txt, 2024-02-18 14:54:18.305048\n",
      "2021-11-09.txt, 2024-02-18 14:54:34.025471\n",
      "2021-12-09.txt, 2024-02-18 14:54:49.542224\n",
      "2022-01-08.txt, 2024-02-18 14:55:05.139879\n",
      "2022-02-07.txt, 2024-02-18 14:55:20.733995\n",
      "2022-03-09.txt, 2024-02-18 14:55:36.479035\n",
      "2022-04-08.txt, 2024-02-18 14:55:53.554889\n",
      "2022-05-08.txt, 2024-02-18 14:56:09.328081\n",
      "2022-06-07.txt, 2024-02-18 14:56:25.296363\n",
      "2022-07-07.txt, 2024-02-18 14:56:41.152808\n",
      "2022-08-06.txt, 2024-02-18 14:56:57.130204\n",
      "2022-09-05.txt, 2024-02-18 14:57:13.140468\n",
      "2022-10-05.txt, 2024-02-18 14:57:29.298652\n",
      "2022-11-04.txt, 2024-02-18 14:57:44.601926\n"
     ]
    }
   ],
   "source": [
    "ans_date = []\n",
    "\n",
    "\n",
    "for name_file in name_files:\n",
    "    print(f'{name_file}, {datetime.today()}')\n",
    "    df = read_df(name_file)\n",
    "    \n",
    "    year = int(name_file[:4])\n",
    "    month = int(name_file[5:7])\n",
    "    day = int(name_file[8:10])\n",
    "    \n",
    "    datetime_right = f\"{year}-{month}-{day} 00:00:00\"\n",
    "    \n",
    "    df = df.fillna(datetime_right, subset=['tx_datetime'])\n",
    "    \n",
    "    split_col = f.split(df['tx_datetime'], ' ')\n",
    "    df = df.withColumn('tx_date', split_col.getItem(0))\n",
    "    \n",
    "    cnt = df.filter(f.col('tx_date') != name_file[:-4]).count()\n",
    "    \n",
    "    if cnt > 0:\n",
    "        ans_date.append(name_file)\n",
    "        \n",
    "#ans_date"
   ]
  },
  {
   "cell_type": "code",
   "execution_count": 41,
   "id": "96ad8ba3",
   "metadata": {
    "scrolled": true
   },
   "outputs": [
    {
     "data": {
      "text/plain": [
       "['2019-08-22.txt',\n",
       " '2019-09-21.txt',\n",
       " '2019-10-21.txt',\n",
       " '2019-11-20.txt',\n",
       " '2019-12-20.txt',\n",
       " '2020-01-19.txt',\n",
       " '2020-02-18.txt',\n",
       " '2020-03-19.txt',\n",
       " '2020-04-18.txt',\n",
       " '2020-05-18.txt',\n",
       " '2020-06-17.txt',\n",
       " '2020-07-17.txt',\n",
       " '2020-08-16.txt',\n",
       " '2020-09-15.txt',\n",
       " '2020-10-15.txt',\n",
       " '2020-11-14.txt',\n",
       " '2020-12-14.txt',\n",
       " '2021-01-13.txt',\n",
       " '2021-02-12.txt',\n",
       " '2021-03-14.txt',\n",
       " '2021-04-13.txt',\n",
       " '2021-05-13.txt',\n",
       " '2021-06-12.txt',\n",
       " '2021-07-12.txt',\n",
       " '2021-08-11.txt',\n",
       " '2021-09-10.txt',\n",
       " '2021-10-10.txt',\n",
       " '2021-11-09.txt',\n",
       " '2021-12-09.txt',\n",
       " '2022-01-08.txt',\n",
       " '2022-02-07.txt',\n",
       " '2022-03-09.txt',\n",
       " '2022-04-08.txt',\n",
       " '2022-05-08.txt',\n",
       " '2022-06-07.txt',\n",
       " '2022-07-07.txt',\n",
       " '2022-08-06.txt',\n",
       " '2022-09-05.txt',\n",
       " '2022-10-05.txt',\n",
       " '2022-11-04.txt']"
      ]
     },
     "execution_count": 41,
     "metadata": {},
     "output_type": "execute_result"
    }
   ],
   "source": [
    "ans_date"
   ]
  },
  {
   "cell_type": "markdown",
   "id": "5e8d1760",
   "metadata": {},
   "source": [
    " ### Проверка на выбросы (в 100 раз больше 99% перцентиля"
   ]
  },
  {
   "cell_type": "code",
   "execution_count": 39,
   "id": "51c43c2d",
   "metadata": {
    "scrolled": true
   },
   "outputs": [
    {
     "name": "stdout",
     "output_type": "stream",
     "text": [
      "2019-08-22.txt, 2024-02-18 13:42:39.936741\n",
      "2019-09-21.txt, 2024-02-18 13:44:09.930184\n",
      "2019-10-21.txt, 2024-02-18 13:45:29.640358\n",
      "2019-11-20.txt, 2024-02-18 13:46:47.618621\n",
      "2019-12-20.txt, 2024-02-18 13:48:05.793622\n",
      "2020-01-19.txt, 2024-02-18 13:49:22.221613\n",
      "2020-02-18.txt, 2024-02-18 13:50:38.700439\n",
      "2020-03-19.txt, 2024-02-18 13:51:53.590449\n",
      "2020-04-18.txt, 2024-02-18 13:53:09.089073\n",
      "2020-05-18.txt, 2024-02-18 13:54:24.824682\n",
      "2020-06-17.txt, 2024-02-18 13:55:40.015975\n",
      "2020-07-17.txt, 2024-02-18 13:56:55.879121\n",
      "2020-08-16.txt, 2024-02-18 13:58:11.792102\n",
      "2020-09-15.txt, 2024-02-18 13:59:27.218821\n",
      "2020-10-15.txt, 2024-02-18 14:00:50.051073\n",
      "2020-11-14.txt, 2024-02-18 14:02:07.021896\n",
      "2020-12-14.txt, 2024-02-18 14:03:23.232875\n",
      "2021-01-13.txt, 2024-02-18 14:04:39.895538\n",
      "2021-02-12.txt, 2024-02-18 14:05:56.851635\n",
      "2021-03-14.txt, 2024-02-18 14:07:17.377110\n",
      "2021-04-13.txt, 2024-02-18 14:08:35.069625\n",
      "2021-05-13.txt, 2024-02-18 14:09:51.192824\n",
      "2021-06-12.txt, 2024-02-18 14:11:07.521688\n",
      "2021-07-12.txt, 2024-02-18 14:12:25.819081\n",
      "2021-08-11.txt, 2024-02-18 14:13:44.539679\n",
      "2021-09-10.txt, 2024-02-18 14:15:03.196544\n",
      "2021-10-10.txt, 2024-02-18 14:16:20.265136\n",
      "2021-11-09.txt, 2024-02-18 14:17:36.776546\n",
      "2021-12-09.txt, 2024-02-18 14:18:52.645717\n",
      "2022-01-08.txt, 2024-02-18 14:20:08.576603\n",
      "2022-02-07.txt, 2024-02-18 14:21:24.124550\n",
      "2022-03-09.txt, 2024-02-18 14:22:39.432749\n",
      "2022-04-08.txt, 2024-02-18 14:23:56.194883\n",
      "2022-05-08.txt, 2024-02-18 14:25:12.917786\n",
      "2022-06-07.txt, 2024-02-18 14:26:29.202101\n",
      "2022-07-07.txt, 2024-02-18 14:27:46.798313\n",
      "2022-08-06.txt, 2024-02-18 14:29:01.880430\n",
      "2022-09-05.txt, 2024-02-18 14:30:18.421340\n",
      "2022-10-05.txt, 2024-02-18 14:31:35.250169\n",
      "2022-11-04.txt, 2024-02-18 14:32:52.921353\n"
     ]
    },
    {
     "data": {
      "text/plain": [
       "defaultdict(list,\n",
       "            {'2019-08-22': ['tx_amount', 'tx_amount', 'tx_time_seconds'],\n",
       "             '2019-09-21': ['tx_amount', 'tx_amount'],\n",
       "             '2019-10-21': ['tx_amount', 'tx_amount'],\n",
       "             '2019-11-20': ['tx_amount', 'tx_amount', 'tx_time_seconds'],\n",
       "             '2019-12-20': ['tx_amount', 'tx_amount', 'tx_time_seconds'],\n",
       "             '2020-01-19': ['tx_amount', 'tx_amount'],\n",
       "             '2020-02-18': ['tx_amount', 'tx_amount', 'tx_time_seconds'],\n",
       "             '2020-03-19': ['tx_amount', 'tx_amount'],\n",
       "             '2020-04-18': ['tx_amount', 'tx_amount', 'tx_time_seconds'],\n",
       "             '2020-05-18': ['tx_amount', 'tx_amount', 'tx_time_seconds'],\n",
       "             '2020-06-17': ['tx_amount', 'tx_amount'],\n",
       "             '2020-07-17': ['tx_amount', 'tx_amount', 'tx_time_seconds'],\n",
       "             '2020-08-16': ['tx_amount', 'tx_amount'],\n",
       "             '2020-09-15': ['tx_amount', 'tx_amount', 'tx_time_seconds'],\n",
       "             '2020-10-15': ['tx_amount', 'tx_amount'],\n",
       "             '2020-11-14': ['tx_amount', 'tx_amount', 'tx_time_seconds'],\n",
       "             '2020-12-14': ['tx_amount', 'tx_amount', 'tx_time_seconds'],\n",
       "             '2021-01-13': ['tx_amount', 'tx_amount', 'tx_time_seconds'],\n",
       "             '2021-02-12': ['tx_amount', 'tx_amount'],\n",
       "             '2021-03-14': ['tx_amount', 'tx_amount', 'tx_time_seconds'],\n",
       "             '2021-04-13': ['tx_amount', 'tx_amount', 'tx_time_seconds'],\n",
       "             '2021-05-13': ['tx_amount', 'tx_amount', 'tx_time_seconds'],\n",
       "             '2021-06-12': ['tx_amount', 'tx_amount'],\n",
       "             '2021-07-12': ['tx_amount', 'tx_amount', 'tx_time_seconds'],\n",
       "             '2021-08-11': ['tx_amount', 'tx_amount', 'tx_time_seconds'],\n",
       "             '2021-09-10': ['tx_amount', 'tx_amount', 'tx_time_seconds'],\n",
       "             '2021-10-10': ['tx_amount', 'tx_amount'],\n",
       "             '2021-11-09': ['tx_amount', 'tx_amount'],\n",
       "             '2021-12-09': ['tx_amount', 'tx_amount', 'tx_time_seconds'],\n",
       "             '2022-01-08': ['tx_amount', 'tx_amount'],\n",
       "             '2022-02-07': ['tx_amount', 'tx_amount', 'tx_time_seconds'],\n",
       "             '2022-03-09': ['tx_amount', 'tx_amount'],\n",
       "             '2022-04-08': ['tx_amount', 'tx_amount'],\n",
       "             '2022-05-08': ['tx_amount', 'tx_amount'],\n",
       "             '2022-06-07': ['tx_amount', 'tx_amount'],\n",
       "             '2022-07-07': ['tx_amount', 'tx_amount', 'tx_time_seconds'],\n",
       "             '2022-08-06': ['tx_amount', 'tx_amount', 'tx_time_seconds'],\n",
       "             '2022-09-05': ['tx_amount', 'tx_amount'],\n",
       "             '2022-10-05': ['tx_amount', 'tx_amount'],\n",
       "             '2022-11-04': ['tx_amount', 'tx_amount']})"
      ]
     },
     "execution_count": 39,
     "metadata": {},
     "output_type": "execute_result"
    }
   ],
   "source": [
    "less_zero = defaultdict(list)\n",
    "\n",
    "cols_to_analyze = ['tx_amount', 'tx_time_days', 'tx_time_seconds']\n",
    "\n",
    "for name_file in name_files:\n",
    "    print(f'{name_file}, {datetime.today()}')\n",
    "    df = read_df(name_file)\n",
    "    \n",
    "    for col in cols_to_analyze:\n",
    "        perc_99 = df.approxQuantile(col, [0.99], 1)[0]\n",
    "        max_val = df.agg({col: \"max\"}).collect()[0][0]\n",
    "        \n",
    "        if max_val > perc_99 * 100:\n",
    "            less_zero[name_file[:-4]].append(col)\n",
    "            \n",
    "less_zero"
   ]
  },
  {
   "cell_type": "code",
   "execution_count": null,
   "id": "889381a1",
   "metadata": {
    "scrolled": true
   },
   "outputs": [
    {
     "name": "stdout",
     "output_type": "stream",
     "text": [
      "2019-08-22.txt, 2024-02-18 17:11:46.869999\n",
      "2019-09-21.txt, 2024-02-18 17:12:29.736831\n",
      "2019-10-21.txt, 2024-02-18 17:12:56.001285\n",
      "2019-11-20.txt, 2024-02-18 17:13:21.933824\n",
      "2019-12-20.txt, 2024-02-18 17:13:49.074726\n",
      "2020-01-19.txt, 2024-02-18 17:14:14.280972\n",
      "2020-02-18.txt, 2024-02-18 17:14:39.130475\n",
      "2020-03-19.txt, 2024-02-18 17:15:13.707134\n",
      "2020-04-18.txt, 2024-02-18 17:15:39.162572\n",
      "2020-05-18.txt, 2024-02-18 17:16:04.048979\n",
      "2020-06-17.txt, 2024-02-18 17:16:29.339308\n",
      "2020-07-17.txt, 2024-02-18 17:16:55.038019\n",
      "2020-08-16.txt, 2024-02-18 17:17:19.587551\n",
      "2020-09-15.txt, 2024-02-18 17:17:44.031765\n",
      "2020-10-15.txt, 2024-02-18 17:18:08.667428\n",
      "2020-11-14.txt, 2024-02-18 17:18:39.808889\n",
      "2020-12-14.txt, 2024-02-18 17:19:04.472772\n",
      "2021-01-13.txt, 2024-02-18 17:19:29.070818\n",
      "2021-02-12.txt, 2024-02-18 17:19:54.966512\n",
      "2021-03-14.txt, 2024-02-18 17:20:21.382558\n",
      "2021-04-13.txt, 2024-02-18 17:20:45.974479\n",
      "2021-05-13.txt, 2024-02-18 17:21:11.275870\n",
      "2021-06-12.txt, 2024-02-18 17:21:35.818060\n",
      "2021-07-12.txt, 2024-02-18 17:22:00.296006\n",
      "2021-08-11.txt, 2024-02-18 17:22:24.646420\n",
      "2021-09-10.txt, 2024-02-18 17:22:48.623334\n",
      "2021-10-10.txt, 2024-02-18 17:23:12.909954\n",
      "2021-11-09.txt, 2024-02-18 17:23:36.899362\n"
     ]
    }
   ],
   "source": [
    "outliers = defaultdict(list)\n",
    "\n",
    "cols_to_analyze = ['tx_time_days']\n",
    "\n",
    "for name_file in name_files:\n",
    "    print(f'{name_file}, {datetime.today()}')\n",
    "    df = read_df(name_file)\n",
    "    \n",
    "    for col in cols_to_analyze:\n",
    "        perc_99 = df.approxQuantile(col, [0.99], 1)[0]\n",
    "        max_val = df.agg({col: \"max\"}).collect()[0][0]\n",
    "        \n",
    "        if max_val > perc_99 * 100:\n",
    "            outliers[name_file[:-4]].append(col)"
   ]
  },
  {
   "cell_type": "code",
   "execution_count": null,
   "id": "0499980c",
   "metadata": {},
   "outputs": [],
   "source": [
    "outliers"
   ]
  },
  {
   "cell_type": "code",
   "execution_count": null,
   "id": "9abffedc",
   "metadata": {},
   "outputs": [],
   "source": []
  },
  {
   "cell_type": "markdown",
   "id": "9122113e",
   "metadata": {},
   "source": [
    "### Проверка что tx_time_seconds != tx_time_days"
   ]
  },
  {
   "cell_type": "code",
   "execution_count": 37,
   "id": "e16bd62b",
   "metadata": {
    "scrolled": true
   },
   "outputs": [
    {
     "name": "stdout",
     "output_type": "stream",
     "text": [
      "2019-08-22.txt, 2024-02-18 13:21:08.060656\n",
      "2019-09-21.txt, 2024-02-18 13:21:21.080399\n",
      "2019-10-21.txt, 2024-02-18 13:21:33.696518\n",
      "2019-11-20.txt, 2024-02-18 13:21:46.222815\n",
      "2019-12-20.txt, 2024-02-18 13:21:58.452886\n",
      "2020-01-19.txt, 2024-02-18 13:22:10.704872\n",
      "2020-02-18.txt, 2024-02-18 13:22:22.800083\n",
      "2020-03-19.txt, 2024-02-18 13:22:35.216220\n",
      "2020-04-18.txt, 2024-02-18 13:22:47.201370\n",
      "2020-05-18.txt, 2024-02-18 13:23:00.065623\n",
      "2020-06-17.txt, 2024-02-18 13:23:12.274395\n",
      "2020-07-17.txt, 2024-02-18 13:23:24.959460\n",
      "2020-08-16.txt, 2024-02-18 13:23:37.169994\n",
      "2020-09-15.txt, 2024-02-18 13:23:49.276805\n",
      "2020-10-15.txt, 2024-02-18 13:24:01.403168\n",
      "2020-11-14.txt, 2024-02-18 13:24:13.465804\n",
      "2020-12-14.txt, 2024-02-18 13:24:25.618990\n",
      "2021-01-13.txt, 2024-02-18 13:24:37.837080\n",
      "2021-02-12.txt, 2024-02-18 13:24:50.798041\n",
      "2021-03-14.txt, 2024-02-18 13:25:03.004145\n",
      "2021-04-13.txt, 2024-02-18 13:25:15.391792\n",
      "2021-05-13.txt, 2024-02-18 13:25:27.741688\n",
      "2021-06-12.txt, 2024-02-18 13:25:39.834985\n",
      "2021-07-12.txt, 2024-02-18 13:25:51.740860\n",
      "2021-08-11.txt, 2024-02-18 13:26:03.682137\n",
      "2021-09-10.txt, 2024-02-18 13:26:15.709991\n",
      "2021-10-10.txt, 2024-02-18 13:26:27.854364\n",
      "2021-11-09.txt, 2024-02-18 13:26:40.183470\n",
      "2021-12-09.txt, 2024-02-18 13:26:52.794999\n",
      "2022-01-08.txt, 2024-02-18 13:27:04.950849\n",
      "2022-02-07.txt, 2024-02-18 13:27:16.960988\n",
      "2022-03-09.txt, 2024-02-18 13:27:29.152647\n",
      "2022-04-08.txt, 2024-02-18 13:27:41.163999\n",
      "2022-05-08.txt, 2024-02-18 13:27:53.351679\n",
      "2022-06-07.txt, 2024-02-18 13:28:05.037115\n",
      "2022-07-07.txt, 2024-02-18 13:28:17.034511\n",
      "2022-08-06.txt, 2024-02-18 13:28:29.000723\n",
      "2022-09-05.txt, 2024-02-18 13:28:40.921472\n",
      "2022-10-05.txt, 2024-02-18 13:28:52.924372\n",
      "2022-11-04.txt, 2024-02-18 13:29:04.972590\n"
     ]
    },
    {
     "data": {
      "text/plain": [
       "['2019-08-22.txt',\n",
       " '2019-09-21.txt',\n",
       " '2019-10-21.txt',\n",
       " '2019-11-20.txt',\n",
       " '2019-12-20.txt',\n",
       " '2020-01-19.txt',\n",
       " '2020-02-18.txt',\n",
       " '2020-03-19.txt',\n",
       " '2020-04-18.txt',\n",
       " '2020-05-18.txt',\n",
       " '2020-06-17.txt',\n",
       " '2020-07-17.txt',\n",
       " '2020-08-16.txt',\n",
       " '2020-09-15.txt',\n",
       " '2020-10-15.txt',\n",
       " '2020-11-14.txt',\n",
       " '2020-12-14.txt',\n",
       " '2021-01-13.txt',\n",
       " '2021-02-12.txt',\n",
       " '2021-03-14.txt',\n",
       " '2021-04-13.txt',\n",
       " '2021-05-13.txt',\n",
       " '2021-06-12.txt',\n",
       " '2021-07-12.txt',\n",
       " '2021-08-11.txt',\n",
       " '2021-09-10.txt',\n",
       " '2021-10-10.txt',\n",
       " '2021-11-09.txt',\n",
       " '2021-12-09.txt',\n",
       " '2022-01-08.txt',\n",
       " '2022-02-07.txt',\n",
       " '2022-03-09.txt',\n",
       " '2022-04-08.txt',\n",
       " '2022-05-08.txt',\n",
       " '2022-06-07.txt',\n",
       " '2022-07-07.txt',\n",
       " '2022-08-06.txt',\n",
       " '2022-09-05.txt',\n",
       " '2022-10-05.txt',\n",
       " '2022-11-04.txt']"
      ]
     },
     "execution_count": 37,
     "metadata": {},
     "output_type": "execute_result"
    }
   ],
   "source": [
    "ans_time = []\n",
    "\n",
    "for name_file in name_files:\n",
    "    print(f'{name_file}, {datetime.today()}')\n",
    "    \n",
    "    df = read_df(name_file)\n",
    "    df = df.dropna(subset=['tx_time_seconds', 'tx_time_days'])\n",
    "    \n",
    "    df = df.withColumn('tx_time_days_calc', (f.col('tx_time_seconds') / 3600 / 24).cast(IntegerType()))\n",
    "    cnt = df.filter(f.col('tx_time_days_calc') != f.col('tx_time_days')).count()\n",
    "    \n",
    "    if cnt > 0:\n",
    "        ans_time.append(name_file)\n",
    "        \n",
    "ans_time"
   ]
  },
  {
   "cell_type": "code",
   "execution_count": 38,
   "id": "1924bf0f",
   "metadata": {
    "scrolled": true
   },
   "outputs": [
    {
     "data": {
      "text/plain": [
       "['2019-08-22.txt',\n",
       " '2019-09-21.txt',\n",
       " '2019-10-21.txt',\n",
       " '2019-11-20.txt',\n",
       " '2019-12-20.txt',\n",
       " '2020-01-19.txt',\n",
       " '2020-02-18.txt',\n",
       " '2020-03-19.txt',\n",
       " '2020-04-18.txt',\n",
       " '2020-05-18.txt',\n",
       " '2020-06-17.txt',\n",
       " '2020-07-17.txt',\n",
       " '2020-08-16.txt',\n",
       " '2020-09-15.txt',\n",
       " '2020-10-15.txt',\n",
       " '2020-11-14.txt',\n",
       " '2020-12-14.txt',\n",
       " '2021-01-13.txt',\n",
       " '2021-02-12.txt',\n",
       " '2021-03-14.txt',\n",
       " '2021-04-13.txt',\n",
       " '2021-05-13.txt',\n",
       " '2021-06-12.txt',\n",
       " '2021-07-12.txt',\n",
       " '2021-08-11.txt',\n",
       " '2021-09-10.txt',\n",
       " '2021-10-10.txt',\n",
       " '2021-11-09.txt',\n",
       " '2021-12-09.txt',\n",
       " '2022-01-08.txt',\n",
       " '2022-02-07.txt',\n",
       " '2022-03-09.txt',\n",
       " '2022-04-08.txt',\n",
       " '2022-05-08.txt',\n",
       " '2022-06-07.txt',\n",
       " '2022-07-07.txt',\n",
       " '2022-08-06.txt',\n",
       " '2022-09-05.txt',\n",
       " '2022-10-05.txt',\n",
       " '2022-11-04.txt']"
      ]
     },
     "execution_count": 38,
     "metadata": {},
     "output_type": "execute_result"
    }
   ],
   "source": [
    "ans_time"
   ]
  },
  {
   "cell_type": "code",
   "execution_count": null,
   "id": "df71df35",
   "metadata": {},
   "outputs": [],
   "source": []
  },
  {
   "cell_type": "markdown",
   "id": "21edfe74",
   "metadata": {},
   "source": [
    "### Проверим, что tx_fraud принимает только бинарный признак"
   ]
  },
  {
   "cell_type": "code",
   "execution_count": 24,
   "id": "af4c7de8",
   "metadata": {
    "scrolled": true
   },
   "outputs": [
    {
     "name": "stdout",
     "output_type": "stream",
     "text": [
      "2019-08-22.txt, 2024-02-18 17:42:51.553650\n",
      "2019-09-21.txt, 2024-02-18 17:43:16.372838\n",
      "2019-10-21.txt, 2024-02-18 17:43:27.747872\n",
      "2019-11-20.txt, 2024-02-18 17:43:38.551622\n",
      "2019-12-20.txt, 2024-02-18 17:43:49.273615\n",
      "2020-01-19.txt, 2024-02-18 17:44:00.104568\n",
      "2020-02-18.txt, 2024-02-18 17:44:10.676881\n",
      "2020-03-19.txt, 2024-02-18 17:44:21.754004\n",
      "2020-04-18.txt, 2024-02-18 17:44:32.400459\n",
      "2020-05-18.txt, 2024-02-18 17:44:42.988354\n",
      "2020-06-17.txt, 2024-02-18 17:44:54.103159\n",
      "2020-07-17.txt, 2024-02-18 17:45:16.810693\n",
      "2020-08-16.txt, 2024-02-18 17:45:27.325407\n",
      "2020-09-15.txt, 2024-02-18 17:45:37.857672\n",
      "2020-10-15.txt, 2024-02-18 17:45:48.648553\n",
      "2020-11-14.txt, 2024-02-18 17:45:59.038436\n",
      "2020-12-14.txt, 2024-02-18 17:46:09.492446\n",
      "2021-01-13.txt, 2024-02-18 17:46:19.885179\n",
      "2021-02-12.txt, 2024-02-18 17:46:30.345747\n",
      "2021-03-14.txt, 2024-02-18 17:46:40.978739\n",
      "2021-04-13.txt, 2024-02-18 17:46:51.345049\n",
      "2021-05-13.txt, 2024-02-18 17:47:01.824694\n",
      "2021-06-12.txt, 2024-02-18 17:47:12.220713\n",
      "2021-07-12.txt, 2024-02-18 17:47:22.692950\n",
      "2021-08-11.txt, 2024-02-18 17:47:33.061215\n",
      "2021-09-10.txt, 2024-02-18 17:47:43.256190\n",
      "2021-10-10.txt, 2024-02-18 17:47:53.551119\n",
      "2021-11-09.txt, 2024-02-18 17:48:03.638062\n",
      "2021-12-09.txt, 2024-02-18 17:48:14.078230\n",
      "2022-01-08.txt, 2024-02-18 17:48:24.823324\n",
      "2022-02-07.txt, 2024-02-18 17:48:34.865163\n",
      "2022-03-09.txt, 2024-02-18 17:48:44.961743\n",
      "2022-04-08.txt, 2024-02-18 17:48:55.182279\n",
      "2022-05-08.txt, 2024-02-18 17:49:05.238718\n",
      "2022-06-07.txt, 2024-02-18 17:49:15.799535\n",
      "2022-07-07.txt, 2024-02-18 17:49:25.977982\n",
      "2022-08-06.txt, 2024-02-18 17:49:35.867306\n",
      "2022-09-05.txt, 2024-02-18 17:49:47.058257\n",
      "2022-10-05.txt, 2024-02-18 17:49:57.153504\n",
      "2022-11-04.txt, 2024-02-18 17:50:07.301316\n"
     ]
    }
   ],
   "source": [
    "files_fraud_corrupted = []\n",
    "\n",
    "for name_file in name_files:\n",
    "    print(f'{name_file}, {datetime.today()}')\n",
    "    \n",
    "    df = read_df(name_file)\n",
    "    \n",
    "    cnt = df.filter(f.col('tx_fraud').isin([1, 0]) == False).count()\n",
    "    \n",
    "    if cnt > 0:\n",
    "        files_fraud_corrupted.append(name_file)"
   ]
  },
  {
   "cell_type": "code",
   "execution_count": 25,
   "id": "508d0b0a",
   "metadata": {},
   "outputs": [
    {
     "data": {
      "text/plain": [
       "[]"
      ]
     },
     "execution_count": 25,
     "metadata": {},
     "output_type": "execute_result"
    }
   ],
   "source": [
    "files_fraud_corrupted"
   ]
  },
  {
   "cell_type": "code",
   "execution_count": null,
   "id": "f1913500",
   "metadata": {},
   "outputs": [],
   "source": []
  },
  {
   "cell_type": "markdown",
   "id": "c652922d",
   "metadata": {},
   "source": [
    "## Сколько значений у tx_fraud_scenario?"
   ]
  },
  {
   "cell_type": "code",
   "execution_count": 22,
   "id": "79abfed5",
   "metadata": {
    "scrolled": true
   },
   "outputs": [
    {
     "name": "stdout",
     "output_type": "stream",
     "text": [
      "2019-08-22.txt, 2024-02-18 17:32:04.690129\n",
      "2019-09-21.txt, 2024-02-18 17:32:29.560858\n",
      "2019-10-21.txt, 2024-02-18 17:32:42.215828\n",
      "2019-11-20.txt, 2024-02-18 17:32:53.882977\n",
      "2019-12-20.txt, 2024-02-18 17:33:05.650166\n",
      "2020-01-19.txt, 2024-02-18 17:33:17.240366\n",
      "2020-02-18.txt, 2024-02-18 17:33:28.640271\n",
      "2020-03-19.txt, 2024-02-18 17:33:39.700337\n",
      "2020-04-18.txt, 2024-02-18 17:33:51.093896\n",
      "2020-05-18.txt, 2024-02-18 17:34:02.529397\n",
      "2020-06-17.txt, 2024-02-18 17:34:13.631960\n",
      "2020-07-17.txt, 2024-02-18 17:34:24.938567\n",
      "2020-08-16.txt, 2024-02-18 17:34:36.125435\n",
      "2020-09-15.txt, 2024-02-18 17:34:47.440426\n",
      "2020-10-15.txt, 2024-02-18 17:34:58.883476\n",
      "2020-11-14.txt, 2024-02-18 17:35:10.380860\n",
      "2020-12-14.txt, 2024-02-18 17:35:21.722513\n",
      "2021-01-13.txt, 2024-02-18 17:35:33.249685\n",
      "2021-02-12.txt, 2024-02-18 17:35:44.535178\n",
      "2021-03-14.txt, 2024-02-18 17:35:55.656036\n",
      "2021-04-13.txt, 2024-02-18 17:36:06.610954\n",
      "2021-05-13.txt, 2024-02-18 17:36:17.711317\n",
      "2021-06-12.txt, 2024-02-18 17:36:34.351219\n",
      "2021-07-12.txt, 2024-02-18 17:36:45.478838\n",
      "2021-08-11.txt, 2024-02-18 17:36:56.531876\n",
      "2021-09-10.txt, 2024-02-18 17:37:08.018964\n",
      "2021-10-10.txt, 2024-02-18 17:37:19.264163\n",
      "2021-11-09.txt, 2024-02-18 17:37:30.038972\n",
      "2021-12-09.txt, 2024-02-18 17:37:41.378005\n",
      "2022-01-08.txt, 2024-02-18 17:37:52.548415\n",
      "2022-02-07.txt, 2024-02-18 17:38:03.548681\n",
      "2022-03-09.txt, 2024-02-18 17:38:14.648135\n",
      "2022-04-08.txt, 2024-02-18 17:38:26.048520\n",
      "2022-05-08.txt, 2024-02-18 17:38:37.191488\n",
      "2022-06-07.txt, 2024-02-18 17:38:48.422826\n",
      "2022-07-07.txt, 2024-02-18 17:38:59.364211\n",
      "2022-08-06.txt, 2024-02-18 17:39:12.708826\n",
      "2022-09-05.txt, 2024-02-18 17:39:24.192582\n",
      "2022-10-05.txt, 2024-02-18 17:39:35.348775\n",
      "2022-11-04.txt, 2024-02-18 17:39:46.647844\n"
     ]
    }
   ],
   "source": [
    "scenarios = set()\n",
    "\n",
    "for name_file in name_files:\n",
    "    print(f'{name_file}, {datetime.today()}')\n",
    "    \n",
    "    df = read_df(name_file)\n",
    "    \n",
    "    varts = df.select('tx_fraud_scenario').dropDuplicates().collect()\n",
    "    scenarios = scenarios.union(set([x['tx_fraud_scenario'] for x in varts]))"
   ]
  },
  {
   "cell_type": "code",
   "execution_count": 23,
   "id": "f929877c",
   "metadata": {},
   "outputs": [
    {
     "data": {
      "text/plain": [
       "{0, 1, 2, 3}"
      ]
     },
     "execution_count": 23,
     "metadata": {},
     "output_type": "execute_result"
    }
   ],
   "source": [
    "scenarios"
   ]
  },
  {
   "cell_type": "code",
   "execution_count": null,
   "id": "5334b86c",
   "metadata": {},
   "outputs": [],
   "source": []
  },
  {
   "cell_type": "code",
   "execution_count": null,
   "id": "4a6d87a8",
   "metadata": {},
   "outputs": [],
   "source": []
  },
  {
   "cell_type": "code",
   "execution_count": null,
   "id": "64935b07",
   "metadata": {},
   "outputs": [],
   "source": []
  },
  {
   "cell_type": "code",
   "execution_count": null,
   "id": "5f787fee",
   "metadata": {},
   "outputs": [],
   "source": []
  },
  {
   "cell_type": "code",
   "execution_count": null,
   "id": "fe218f2b",
   "metadata": {},
   "outputs": [],
   "source": []
  },
  {
   "cell_type": "code",
   "execution_count": null,
   "id": "8fa3e6f4",
   "metadata": {},
   "outputs": [],
   "source": []
  }
 ],
 "metadata": {
  "kernelspec": {
   "display_name": "Python 3",
   "language": "python",
   "name": "python3"
  },
  "language_info": {
   "codemirror_mode": {
    "name": "ipython",
    "version": 3
   },
   "file_extension": ".py",
   "mimetype": "text/x-python",
   "name": "python",
   "nbconvert_exporter": "python",
   "pygments_lexer": "ipython3",
   "version": "3.8.10"
  }
 },
 "nbformat": 4,
 "nbformat_minor": 5
}
