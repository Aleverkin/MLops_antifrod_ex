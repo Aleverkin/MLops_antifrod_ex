{
 "cells": [
  {
   "cell_type": "code",
   "execution_count": 16,
   "id": "1e1d3118",
   "metadata": {},
   "outputs": [],
   "source": [
    "import boto3\n",
    "import os\n",
    "from os import path"
   ]
  },
  {
   "cell_type": "code",
   "execution_count": 26,
   "id": "c7881742",
   "metadata": {},
   "outputs": [],
   "source": [
    "bucket_name = \"hw2-mlops-course\""
   ]
  },
  {
   "cell_type": "code",
   "execution_count": 20,
   "id": "06f193ce",
   "metadata": {},
   "outputs": [],
   "source": [
    "session = boto3.session.Session()\n",
    "\n",
    "ENDPOINT = \"https://storage.yandexcloud.net\"\n",
    "\n",
    "session = boto3.Session(\n",
    "    aws_access_key_id=(\"YCAJEpQCtVf0w4xawQczRDvdv\"),\n",
    "    aws_secret_access_key=(\"YCM0vj2zTqcSeZCkXWDlf6Xx5E7kSpCcffmXhh91\"),\n",
    "    region_name=\"ru-central1\",\n",
    ")\n",
    "\n",
    "s3 = session.client(\n",
    "    \"s3\", endpoint_url=ENDPOINT)"
   ]
  },
  {
   "cell_type": "code",
   "execution_count": 28,
   "id": "3087a5c2",
   "metadata": {
    "scrolled": true
   },
   "outputs": [],
   "source": [
    "list_files = s3.list_objects(Bucket=bucket_name)['Contents']"
   ]
  },
  {
   "cell_type": "code",
   "execution_count": 32,
   "id": "2d54a0ac",
   "metadata": {
    "scrolled": true
   },
   "outputs": [
    {
     "data": {
      "text/plain": [
       "['2019-08-22.txt',\n",
       " '2019-09-21.txt',\n",
       " '2019-10-21.txt',\n",
       " '2019-11-20.txt',\n",
       " '2019-12-20.txt',\n",
       " '2020-01-19.txt',\n",
       " '2020-02-18.txt',\n",
       " '2020-03-19.txt',\n",
       " '2020-04-18.txt',\n",
       " '2020-05-18.txt',\n",
       " '2020-06-17.txt',\n",
       " '2020-07-17.txt',\n",
       " '2020-08-16.txt',\n",
       " '2020-09-15.txt',\n",
       " '2020-10-15.txt',\n",
       " '2020-11-14.txt',\n",
       " '2020-12-14.txt',\n",
       " '2021-01-13.txt',\n",
       " '2021-02-12.txt',\n",
       " '2021-03-14.txt',\n",
       " '2021-04-13.txt',\n",
       " '2021-05-13.txt',\n",
       " '2021-06-12.txt',\n",
       " '2021-07-12.txt',\n",
       " '2021-08-11.txt',\n",
       " '2021-09-10.txt',\n",
       " '2021-10-10.txt',\n",
       " '2021-11-09.txt',\n",
       " '2021-12-09.txt',\n",
       " '2022-01-08.txt',\n",
       " '2022-02-07.txt',\n",
       " '2022-03-09.txt',\n",
       " '2022-04-08.txt',\n",
       " '2022-05-08.txt',\n",
       " '2022-06-07.txt',\n",
       " '2022-07-07.txt',\n",
       " '2022-08-06.txt',\n",
       " '2022-09-05.txt',\n",
       " '2022-10-05.txt',\n",
       " '2022-11-04.txt',\n",
       " 'train.csv']"
      ]
     },
     "execution_count": 32,
     "metadata": {},
     "output_type": "execute_result"
    }
   ],
   "source": [
    "list_files = [file['Key'] for file in list_files]\n",
    "list_files"
   ]
  },
  {
   "cell_type": "code",
   "execution_count": 33,
   "id": "fc3c8f69",
   "metadata": {},
   "outputs": [],
   "source": [
    "list_files.remove('train.csv')"
   ]
  },
  {
   "cell_type": "code",
   "execution_count": 34,
   "id": "3c2c898a",
   "metadata": {},
   "outputs": [],
   "source": [
    "list_files = sorted(list_files)"
   ]
  },
  {
   "cell_type": "code",
   "execution_count": 36,
   "id": "3b45ecb0",
   "metadata": {},
   "outputs": [
    {
     "data": {
      "text/plain": [
       "'2022-11-04.txt'"
      ]
     },
     "execution_count": 36,
     "metadata": {},
     "output_type": "execute_result"
    }
   ],
   "source": [
    "list_files[-1]"
   ]
  },
  {
   "cell_type": "code",
   "execution_count": null,
   "id": "8605879e",
   "metadata": {},
   "outputs": [],
   "source": []
  }
 ],
 "metadata": {
  "kernelspec": {
   "display_name": "Python 3",
   "language": "python",
   "name": "python3"
  },
  "language_info": {
   "codemirror_mode": {
    "name": "ipython",
    "version": 3
   },
   "file_extension": ".py",
   "mimetype": "text/x-python",
   "name": "python",
   "nbconvert_exporter": "python",
   "pygments_lexer": "ipython3",
   "version": "3.8.10"
  }
 },
 "nbformat": 4,
 "nbformat_minor": 5
}
